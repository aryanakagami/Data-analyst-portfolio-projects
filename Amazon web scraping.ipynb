{
 "cells": [
  {
   "cell_type": "markdown",
   "id": "5f5b61d9-cb31-4847-96ff-b5e8027d228a",
   "metadata": {},
   "source": [
    "# In this project , we will do web scraping for a amazon product and see if it will change with time"
   ]
  },
  {
   "cell_type": "code",
   "execution_count": 2,
   "id": "6f4ba211-491c-43e8-b89b-fae0f04b185d",
   "metadata": {},
   "outputs": [],
   "source": [
    "# Importing libraries\n",
    "from bs4 import BeautifulSoup\n",
    "import requests\n",
    "import smtplib\n",
    "import time\n",
    "import datetime"
   ]
  },
  {
   "cell_type": "code",
   "execution_count": 3,
   "id": "fa5b2283-f4d5-410b-b078-2ec11b05caee",
   "metadata": {},
   "outputs": [
    {
     "name": "stdout",
     "output_type": "stream",
     "text": [
      "Nintendo Switch OLED model With Neon Red & Neon Blue Joy-Con\n",
      "28,930\n",
      "                            \n",
      "                             .\n"
     ]
    }
   ],
   "source": [
    "# Connect to website \n",
    "url = 'https://www.amazon.in/Nintendo-Switch-OLED-model-Neon/dp/B098TNW7NM/ref=sr_1_2?crid=1QTHP2LT1GU3A&dib=eyJ2IjoiMSJ9.x1aNC47s_jaMZlnPIx0uUOpBQ2OV1DdFLrtaI5lHketC9IhLINNAkUe8nJ1jTOjlUHf2FTvW-FceGaTTv9T1UAGZ18NtmwoV_WClqW07hGTH-NFcWTfgFA4FiZ8fjB5QES21EgKt0F1CIBOiL-RkZ4VSup7-ifAnH_NoVJdvRpvTputWfGnbS_dyJhCtw5XjMaKQbaOwl4V-IewWQI2JNctiX9GYV1VDRt8Ks7sGf_Y.Oun8LWxXJo18XTPT3_5qFQHBzjLZMzjSOAVS_O4TwpI&dib_tag=se&keywords=nintendo+switch&qid=1724595934&sprefix=nintendo+switch%2Caps%2C336&sr=8-2'\n",
    "headers = {\"User-Agent\": \"Mozilla/5.0 (Windows NT 10.0; Win64; x64) AppleWebKit/537.36 (KHTML, like Gecko) Chrome/127.0.0.0 Safari/537.36\", \"Accept-Encoding\":\"gzip, deflate\", \"Accept\":\"text/html,application/xhtml+xml,application/xml;q=0.9,*/*;q=0.8\", \"DNT\":\"1\",\"Connection\":\"close\", \"Upgrade-Insecure-Requests\":\"1\"}\n",
    "# headers : A dictionary of HTTP request headers used to mimic a real web browser, helping to avoid detection as a bot by servers.\n",
    "page = requests.get(url,headers = headers)\n",
    "# httpbin.org/get This JSON shows details of an HTTP GET request made to httpbin.org. \n",
    "# It lists the headers sent by the browser (like User-Agent and Accept), the IP address of the request (origin), and the URL accessed (url).\n",
    "# The args section is empty, meaning no extra data was sent with the request.\n",
    "\n",
    "soup1 = BeautifulSoup(page.content , parser = 'html')\n",
    "soup2 = BeautifulSoup(soup1.prettify() , parser = 'html')\n",
    "\n",
    "title = soup2.find(id = 'productTitle').text.strip()\n",
    "price = soup2.find(class_ =\"a-price-whole\").text.strip()\n",
    "print(title)\n",
    "print(price)"
   ]
  },
  {
   "cell_type": "code",
   "execution_count": 4,
   "id": "b996f822-590f-4d2a-bbaa-a1abef6d5e4e",
   "metadata": {},
   "outputs": [
    {
     "name": "stdout",
     "output_type": "stream",
     "text": [
      "Nintendo Switch OLED model With Neon Red & Neon Blue Joy-Con\n",
      "28,930\n"
     ]
    },
    {
     "data": {
      "text/plain": [
       "str"
      ]
     },
     "execution_count": 4,
     "metadata": {},
     "output_type": "execute_result"
    }
   ],
   "source": [
    "# We have to clean it\n",
    "price = price.strip('.').replace('\\n','').replace(' ','')\n",
    "title = title.strip()\n",
    "print(title)\n",
    "print(price)\n",
    "type(price) # These are strings"
   ]
  },
  {
   "cell_type": "code",
   "execution_count": 5,
   "id": "deca55c7-d429-4a8e-95a7-f1bb662b2d18",
   "metadata": {},
   "outputs": [
    {
     "name": "stdout",
     "output_type": "stream",
     "text": [
      "2024-08-26\n"
     ]
    }
   ],
   "source": [
    "import datetime\n",
    "today = datetime.date.today()\n",
    "print(today)"
   ]
  },
  {
   "cell_type": "code",
   "execution_count": 6,
   "id": "62a6bbbb-123b-4432-8466-5370c24dd74a",
   "metadata": {},
   "outputs": [],
   "source": [
    "# importing into a csv\n",
    "import csv\n",
    "\n",
    "header = ['Title' , 'Price','Date']\n",
    "data = [title, price, today]\n",
    "type(data) # Now we are using list\n",
    "\n",
    "with open('Amazonwebscrapping1.csv' , 'w' ,newline='' , encoding = 'UTF8') as f:\n",
    "    writer = csv.writer(f)\n",
    "    writer.writerow(header)\n",
    "    writer.writerow(data)\n",
    "\n",
    "# 'w': Specifies that the file is opened in write mode, meaning any existing content will be overwritten.\n",
    "# newline='': Ensures that no additional newline characters are added when writing rows, preventing blank lines in the file.\n",
    "# encoding='UTF8': Specifies that the file will be encoded in UTF-8, supporting a wide range of characters.\n",
    "# writer = csv.writer(f): Creates a CSV writer object writer that is associated with the file f, allowing you to write data to the CSV file.\n",
    "# writer.writerow(header): Writes a single row of data, defined by the header list, to the CSV file as the first row, typically used for column headers."
   ]
  },
  {
   "cell_type": "code",
   "execution_count": 7,
   "id": "ca2667d9-8223-4b28-a455-8877fe7dcda1",
   "metadata": {},
   "outputs": [
    {
     "name": "stdout",
     "output_type": "stream",
     "text": [
      "                                               Title   Price        Date\n",
      "0  Nintendo Switch OLED model With Neon Red & Neo...  28,930  2024-08-26\n"
     ]
    }
   ],
   "source": [
    "import pandas as pd\n",
    "df = pd.read_csv(r'Amazonwebscrapping1.csv')\n",
    "print(df)"
   ]
  },
  {
   "cell_type": "code",
   "execution_count": 8,
   "id": "ff58f813-2937-4009-b23c-2e23b00c298c",
   "metadata": {},
   "outputs": [],
   "source": [
    "# Now we will append data to the csv\n",
    "\n",
    "with open('Amazonwebscrapping1.csv' , 'a+' ,newline='' , encoding = 'UTF8') as f:\n",
    "    writer = csv.writer(f)\n",
    "    writer.writerow(data)"
   ]
  },
  {
   "cell_type": "code",
   "execution_count": 9,
   "id": "efc7db37-41e7-4de3-b214-bb5878800b27",
   "metadata": {},
   "outputs": [],
   "source": [
    "# we want to automate this process\n",
    "\n",
    "def check_price():\n",
    "        url = 'https://www.amazon.in/Nintendo-Switch-OLED-model-Neon/dp/B098TNW7NM/ref=sr_1_2?crid=1QTHP2LT1GU3A&dib=eyJ2IjoiMSJ9.x1aNC47s_jaMZlnPIx0uUOpBQ2OV1DdFLrtaI5lHketC9IhLINNAkUe8nJ1jTOjlUHf2FTvW-FceGaTTv9T1UAGZ18NtmwoV_WClqW07hGTH-NFcWTfgFA4FiZ8fjB5QES21EgKt0F1CIBOiL-RkZ4VSup7-ifAnH_NoVJdvRpvTputWfGnbS_dyJhCtw5XjMaKQbaOwl4V-IewWQI2JNctiX9GYV1VDRt8Ks7sGf_Y.Oun8LWxXJo18XTPT3_5qFQHBzjLZMzjSOAVS_O4TwpI&dib_tag=se&keywords=nintendo+switch&qid=1724595934&sprefix=nintendo+switch%2Caps%2C336&sr=8-2'\n",
    "        headers = {\"User-Agent\": \"Mozilla/5.0 (Windows NT 10.0; Win64; x64) AppleWebKit/537.36 (KHTML, like Gecko) Chrome/127.0.0.0 Safari/537.36\", \"Accept-Encoding\":\"gzip, deflate\", \"Accept\":\"text/html,application/xhtml+xml,application/xml;q=0.9,*/*;q=0.8\", \"DNT\":\"1\",\"Connection\":\"close\", \"Upgrade-Insecure-Requests\":\"1\"}\n",
    "        page = requests.get(url,headers = headers)\n",
    "        soup1 = BeautifulSoup(page.content , parser = 'html')\n",
    "        soup2 = BeautifulSoup(soup1.prettify() , parser = 'html')\n",
    "        title = soup2.find(id = 'productTitle').text.strip()\n",
    "        price = soup2.find(class_ =\"a-price-whole\").text.strip()\n",
    "        price = price.strip('.').replace('\\n','').replace(' ','')\n",
    "        title = title.strip()\n",
    "        import datetime\n",
    "        today = datetime.date.today()\n",
    "        import csv\n",
    "        header = ['Title' , 'Price','Date']\n",
    "        data = [title, price, today]\n",
    "        with open('Amazonwebscrapping1.csv' , 'a+' ,newline='' , encoding = 'UTF8') as f:\n",
    "            writer = csv.writer(f)\n",
    "            writer.writerow(data)\n",
    "        if(price<25,000):\n",
    "            send_mail()"
   ]
  },
  {
   "cell_type": "code",
   "execution_count": null,
   "id": "233616cf-15c2-4518-964a-8c4dc35b65f0",
   "metadata": {},
   "outputs": [],
   "source": [
    "# after every day , it will ppend new data for that day into our dataframe\n",
    "while(True):\n",
    "    check_price()\n",
    "    time.sleep(86400)"
   ]
  },
  {
   "cell_type": "code",
   "execution_count": null,
   "id": "60d3f8a4-a09a-4fbb-ba46-47192cfca62f",
   "metadata": {},
   "outputs": [],
   "source": [
    "import pandas as pd\n",
    "df = pd.read_csv(r'Amazonwebscrapping1.csv')\n",
    "print(df)"
   ]
  },
  {
   "cell_type": "code",
   "execution_count": null,
   "id": "69f97feb-b428-48af-873e-bcc7b3860497",
   "metadata": {},
   "outputs": [],
   "source": [
    "# Now we will sent mail to our inbox\n",
    "def send_mail():\n",
    "    server = smtplib.SMTP_SSL('smtp.gmail.com',465)\n",
    "    server.ehlo()\n",
    "    #server.starttls()\n",
    "    server.ehlo()\n",
    "    server.login('aryantripathieng@gmail.com','xxxxxxxxxxxxxx')\n",
    "    \n",
    "    subject = \"The nintendo switch is in price range\"\n",
    "    body = \"Aryan, This is the moment we have been waiting for. Now is your chance to pick up the console of your dreams. Don't mess it up! Link here: \"https://www.amazon.in/Nintendo-Switch-OLED-model-Neon/dp/B098TNW7NM/ref=sr_1_2?crid=1QTHP2LT1GU3A&dib=eyJ2IjoiMSJ9.x1aNC47s_jaMZlnPIx0uUOpBQ2OV1DdFLrtaI5lHketC9IhLINNAkUe8nJ1jTOjlUHf2FTvW-FceGaTTv9T1UAGZ18NtmwoV_WClqW07hGTH-NFcWTfgFA4FiZ8fjB5QES21EgKt0F1CIBOiL-RkZ4VSup7-ifAnH_NoVJdvRpvTputWfGnbS_dyJhCtw5XjMaKQbaOwl4V-IewWQI2JNctiX9GYV1VDRt8Ks7sGf_Y.Oun8LWxXJo18XTPT3_5qFQHBzjLZMzjSOAVS_O4TwpI&dib_tag=se&keywords=nintendo+switch&qid=1724595934&sprefix=nintendo+switch%2Caps%2C336&sr=8-2\"\"\n",
    "   \n",
    "    msg = f\"Subject: {subject}\\n\\n{body}\"\n",
    "    \n",
    "    server.sendmail(\n",
    "        'aryantripathieng@gmail.com',\n",
    "        msg\n",
    "     \n",
    "    )\n",
    "\n",
    "# smtplib.SMTP_SSL: This creates an SMTP client session object that can be used to send mail via the SMTP protocol, specifically using SSL (Secure Sockets Layer) for secure communication.\n",
    "# 'smtp.gmail.com': This is the SMTP server address for Gmail.\n",
    "# 465: This is the port number used by Gmail's SMTP server when connecting over SSL.\n",
    "# ehlo(): This command identifies the client to the SMTP server using the Extended HELO (EHLO) command. \n",
    "# EHLO is an extended version of the HELO command, which is used to identify the client and request an extended set of server features."
   ]
  },
  {
   "cell_type": "code",
   "execution_count": null,
   "id": "7181bc15-8b5a-477b-80f9-18ba604c0919",
   "metadata": {},
   "outputs": [],
   "source": []
  },
  {
   "cell_type": "code",
   "execution_count": null,
   "id": "000e60b2-426b-4c66-bec2-f6ecff72b095",
   "metadata": {},
   "outputs": [],
   "source": []
  },
  {
   "cell_type": "code",
   "execution_count": null,
   "id": "811a785c-67ff-4eb9-bec7-7d1960147974",
   "metadata": {},
   "outputs": [],
   "source": []
  },
  {
   "cell_type": "code",
   "execution_count": null,
   "id": "b77eba4c-1624-4cfd-bec3-1f26af585dfb",
   "metadata": {},
   "outputs": [],
   "source": []
  },
  {
   "cell_type": "code",
   "execution_count": null,
   "id": "b3502bce-7c63-4dfa-8894-3048db70e774",
   "metadata": {},
   "outputs": [],
   "source": []
  },
  {
   "cell_type": "code",
   "execution_count": null,
   "id": "3f191775-1964-45f1-a9cb-1e0eb5b13d28",
   "metadata": {},
   "outputs": [],
   "source": []
  },
  {
   "cell_type": "code",
   "execution_count": null,
   "id": "90e457df-9138-4197-a2c3-686624505f4a",
   "metadata": {},
   "outputs": [],
   "source": []
  },
  {
   "cell_type": "code",
   "execution_count": null,
   "id": "dce8e1ed-ccc4-4288-82db-5c103ed4f826",
   "metadata": {},
   "outputs": [],
   "source": []
  },
  {
   "cell_type": "code",
   "execution_count": null,
   "id": "9b38563a-7017-4237-a576-086706c6b787",
   "metadata": {},
   "outputs": [],
   "source": []
  },
  {
   "cell_type": "code",
   "execution_count": null,
   "id": "da52267a-b7d6-43af-b35b-2c2fb6a83760",
   "metadata": {},
   "outputs": [],
   "source": []
  },
  {
   "cell_type": "code",
   "execution_count": null,
   "id": "a0ee8a65-ee3b-4a26-919d-3da1c40391cb",
   "metadata": {},
   "outputs": [],
   "source": []
  },
  {
   "cell_type": "code",
   "execution_count": null,
   "id": "b2a84583-4519-43b3-9d70-64965b754880",
   "metadata": {},
   "outputs": [],
   "source": []
  },
  {
   "cell_type": "code",
   "execution_count": null,
   "id": "7bc33a87-0d9a-402e-adf4-40f6ce6903db",
   "metadata": {},
   "outputs": [],
   "source": []
  },
  {
   "cell_type": "code",
   "execution_count": null,
   "id": "a46f72dc-8068-49ed-9f13-40464e1153d4",
   "metadata": {},
   "outputs": [],
   "source": []
  },
  {
   "cell_type": "code",
   "execution_count": null,
   "id": "ca098fe9-762f-44eb-aee0-aa2150df0801",
   "metadata": {},
   "outputs": [],
   "source": []
  },
  {
   "cell_type": "code",
   "execution_count": null,
   "id": "4462f303-9deb-4cb9-907d-3108cfa2c2d4",
   "metadata": {},
   "outputs": [],
   "source": []
  },
  {
   "cell_type": "code",
   "execution_count": null,
   "id": "abfee246-eda1-4324-9073-4f26c40d4b24",
   "metadata": {},
   "outputs": [],
   "source": []
  },
  {
   "cell_type": "code",
   "execution_count": null,
   "id": "f9000f82-6d63-484a-9be7-41b56dc0bd4d",
   "metadata": {},
   "outputs": [],
   "source": []
  },
  {
   "cell_type": "code",
   "execution_count": null,
   "id": "11a11baf-26a3-4045-988a-b33dc41727f2",
   "metadata": {},
   "outputs": [],
   "source": []
  },
  {
   "cell_type": "code",
   "execution_count": null,
   "id": "05c197f0-14d7-4511-9276-fce432e0ef63",
   "metadata": {},
   "outputs": [],
   "source": []
  },
  {
   "cell_type": "code",
   "execution_count": null,
   "id": "5fde8f1c-1507-4c75-af69-0e9e1f1e89a7",
   "metadata": {},
   "outputs": [],
   "source": []
  },
  {
   "cell_type": "code",
   "execution_count": null,
   "id": "ab68c985-c074-4ba1-9180-fc0b472e7f67",
   "metadata": {},
   "outputs": [],
   "source": []
  },
  {
   "cell_type": "code",
   "execution_count": null,
   "id": "cc4ffd6c-966d-4a51-8205-2f8e09f545b6",
   "metadata": {},
   "outputs": [],
   "source": []
  },
  {
   "cell_type": "code",
   "execution_count": null,
   "id": "f43dc839-3974-485a-ad16-e9c54577fd72",
   "metadata": {},
   "outputs": [],
   "source": []
  },
  {
   "cell_type": "code",
   "execution_count": null,
   "id": "2b54e0ae-7339-4358-9af9-9a08f3e35cf7",
   "metadata": {},
   "outputs": [],
   "source": []
  },
  {
   "cell_type": "code",
   "execution_count": null,
   "id": "aa157171-a9e8-4ae4-b90c-6718eedaa7df",
   "metadata": {},
   "outputs": [],
   "source": []
  },
  {
   "cell_type": "code",
   "execution_count": null,
   "id": "7db134db-af14-4415-a16f-23ec78a231d8",
   "metadata": {},
   "outputs": [],
   "source": []
  },
  {
   "cell_type": "code",
   "execution_count": null,
   "id": "d8177df9-7281-4e6b-a9e7-a68c519fb179",
   "metadata": {},
   "outputs": [],
   "source": []
  },
  {
   "cell_type": "code",
   "execution_count": null,
   "id": "9b5a0dde-e80f-4ccc-b394-32465a790f75",
   "metadata": {},
   "outputs": [],
   "source": []
  },
  {
   "cell_type": "code",
   "execution_count": null,
   "id": "730f02c0-fd57-479f-ba89-5c421bac0624",
   "metadata": {},
   "outputs": [],
   "source": []
  },
  {
   "cell_type": "code",
   "execution_count": null,
   "id": "cf937d87-c40b-48ac-b6cb-9e207e018925",
   "metadata": {},
   "outputs": [],
   "source": []
  },
  {
   "cell_type": "code",
   "execution_count": null,
   "id": "682215a6-3055-47df-a90b-22c6898571a3",
   "metadata": {},
   "outputs": [],
   "source": []
  },
  {
   "cell_type": "code",
   "execution_count": null,
   "id": "900db9a2-592d-4588-8d6b-8ab90e959eee",
   "metadata": {},
   "outputs": [],
   "source": []
  },
  {
   "cell_type": "code",
   "execution_count": null,
   "id": "806dff45-28c3-47f2-8938-e93e20853cdc",
   "metadata": {},
   "outputs": [],
   "source": []
  },
  {
   "cell_type": "code",
   "execution_count": null,
   "id": "869abe11-b881-4035-8d2d-4800315b5b07",
   "metadata": {},
   "outputs": [],
   "source": []
  },
  {
   "cell_type": "code",
   "execution_count": null,
   "id": "44ba32ca-e303-489f-a97b-3ac201720c8c",
   "metadata": {},
   "outputs": [],
   "source": []
  },
  {
   "cell_type": "code",
   "execution_count": null,
   "id": "e1c1d2d1-7174-4bfe-b5d1-faae50afcc6d",
   "metadata": {},
   "outputs": [],
   "source": []
  },
  {
   "cell_type": "code",
   "execution_count": null,
   "id": "b1119607-dee0-40f2-a62e-30712ad3c645",
   "metadata": {},
   "outputs": [],
   "source": []
  },
  {
   "cell_type": "code",
   "execution_count": null,
   "id": "6fc64365-5daa-4d57-b783-c4eaaad7521e",
   "metadata": {},
   "outputs": [],
   "source": []
  },
  {
   "cell_type": "code",
   "execution_count": null,
   "id": "ae1239b5-b649-4576-8c43-c87b25a27d75",
   "metadata": {},
   "outputs": [],
   "source": []
  },
  {
   "cell_type": "code",
   "execution_count": null,
   "id": "ba96ae84-3e3e-4e94-8c9b-7ef1d547a72a",
   "metadata": {},
   "outputs": [],
   "source": []
  },
  {
   "cell_type": "code",
   "execution_count": null,
   "id": "b4fa28b8-0da6-4005-8abe-8c9bfdebb334",
   "metadata": {},
   "outputs": [],
   "source": []
  },
  {
   "cell_type": "code",
   "execution_count": null,
   "id": "5cf1b47b-1e6a-49ac-970d-268e5de24c70",
   "metadata": {},
   "outputs": [],
   "source": []
  },
  {
   "cell_type": "code",
   "execution_count": null,
   "id": "79410251-e12c-4ba0-8675-9959a3a87374",
   "metadata": {},
   "outputs": [],
   "source": []
  },
  {
   "cell_type": "code",
   "execution_count": null,
   "id": "c1b5bb20-a4b6-4bb7-a3c6-763210a6ca9f",
   "metadata": {},
   "outputs": [],
   "source": []
  },
  {
   "cell_type": "code",
   "execution_count": null,
   "id": "034831f2-f1ed-45bf-be60-0390bc981adb",
   "metadata": {},
   "outputs": [],
   "source": []
  },
  {
   "cell_type": "code",
   "execution_count": null,
   "id": "05579bef-9e28-4301-8fee-28a7475149d7",
   "metadata": {},
   "outputs": [],
   "source": []
  },
  {
   "cell_type": "code",
   "execution_count": null,
   "id": "3ecc1f4e-7910-4eb1-b357-2b2adb82b333",
   "metadata": {},
   "outputs": [],
   "source": []
  },
  {
   "cell_type": "code",
   "execution_count": null,
   "id": "6cecc567-9c58-469e-a860-e78ac343c8b1",
   "metadata": {},
   "outputs": [],
   "source": []
  },
  {
   "cell_type": "code",
   "execution_count": null,
   "id": "e8cbdadd-d5df-4472-bc03-0f1495add7c7",
   "metadata": {},
   "outputs": [],
   "source": []
  },
  {
   "cell_type": "code",
   "execution_count": null,
   "id": "c63ebd22-ce29-4572-b981-14b27e4a10e7",
   "metadata": {},
   "outputs": [],
   "source": []
  },
  {
   "cell_type": "code",
   "execution_count": null,
   "id": "cdc65b0a-ec1d-4736-9657-1f92b712ea93",
   "metadata": {},
   "outputs": [],
   "source": []
  },
  {
   "cell_type": "code",
   "execution_count": null,
   "id": "52db788b-4fcf-414a-b69c-f1608246fc02",
   "metadata": {},
   "outputs": [],
   "source": []
  },
  {
   "cell_type": "code",
   "execution_count": null,
   "id": "3ae26eae-526b-4981-a1e4-e045bb2c2281",
   "metadata": {},
   "outputs": [],
   "source": []
  },
  {
   "cell_type": "code",
   "execution_count": null,
   "id": "9bd89543-0b0c-4fff-a017-8d95988ccef8",
   "metadata": {},
   "outputs": [],
   "source": []
  },
  {
   "cell_type": "code",
   "execution_count": null,
   "id": "ce997526-7323-47d6-ab03-19f628099ceb",
   "metadata": {},
   "outputs": [],
   "source": []
  },
  {
   "cell_type": "code",
   "execution_count": null,
   "id": "ebe46c6e-23ca-473b-a97e-3426ace0b0ff",
   "metadata": {},
   "outputs": [],
   "source": []
  },
  {
   "cell_type": "code",
   "execution_count": null,
   "id": "0c8e6943-3bb2-42ae-bc4e-b89517ff5dc3",
   "metadata": {},
   "outputs": [],
   "source": []
  },
  {
   "cell_type": "code",
   "execution_count": null,
   "id": "a2f1912c-a47e-4544-90f5-8bd411ed0c09",
   "metadata": {},
   "outputs": [],
   "source": []
  },
  {
   "cell_type": "code",
   "execution_count": null,
   "id": "59d72c35-7f68-40b0-8ffa-74be2663ac93",
   "metadata": {},
   "outputs": [],
   "source": []
  },
  {
   "cell_type": "code",
   "execution_count": null,
   "id": "0a89c178-511f-48d5-8084-0ab37b4d6903",
   "metadata": {},
   "outputs": [],
   "source": []
  },
  {
   "cell_type": "code",
   "execution_count": null,
   "id": "4a357ff8-d020-443d-b415-372b568426bd",
   "metadata": {},
   "outputs": [],
   "source": []
  },
  {
   "cell_type": "code",
   "execution_count": null,
   "id": "9cba740b-d568-416c-98ae-35dcd1524753",
   "metadata": {},
   "outputs": [],
   "source": []
  },
  {
   "cell_type": "code",
   "execution_count": null,
   "id": "1e9cb622-d616-45f1-b86d-bb99ac0e321c",
   "metadata": {},
   "outputs": [],
   "source": []
  },
  {
   "cell_type": "code",
   "execution_count": null,
   "id": "e3870d40-6faf-4850-b2a0-5329e54598a3",
   "metadata": {},
   "outputs": [],
   "source": []
  },
  {
   "cell_type": "code",
   "execution_count": null,
   "id": "3d4adff3-f421-405e-b916-6a96c9807689",
   "metadata": {},
   "outputs": [],
   "source": []
  },
  {
   "cell_type": "code",
   "execution_count": null,
   "id": "a60482e1-5b1d-4fcc-900b-81987a1865d3",
   "metadata": {},
   "outputs": [],
   "source": []
  },
  {
   "cell_type": "code",
   "execution_count": null,
   "id": "8a241ed9-0d25-4f6a-977a-af47ee3d64a0",
   "metadata": {},
   "outputs": [],
   "source": []
  },
  {
   "cell_type": "code",
   "execution_count": null,
   "id": "e722d301-c4b6-4b0d-84c3-3059906a7892",
   "metadata": {},
   "outputs": [],
   "source": []
  },
  {
   "cell_type": "code",
   "execution_count": null,
   "id": "24163c69-1d9c-4af9-9015-840d9af51ebc",
   "metadata": {},
   "outputs": [],
   "source": []
  },
  {
   "cell_type": "code",
   "execution_count": null,
   "id": "5be394e6-8238-41cd-821b-6ab7e01430c2",
   "metadata": {},
   "outputs": [],
   "source": []
  },
  {
   "cell_type": "code",
   "execution_count": null,
   "id": "f6ef91a4-1bea-4f10-aeb2-89b8cf67abf9",
   "metadata": {},
   "outputs": [],
   "source": []
  },
  {
   "cell_type": "code",
   "execution_count": null,
   "id": "dc8d3b26-16be-4cd9-9822-1d946072a301",
   "metadata": {},
   "outputs": [],
   "source": []
  },
  {
   "cell_type": "code",
   "execution_count": null,
   "id": "f8da73a5-e8b7-466e-94e0-6e0dbf4c56db",
   "metadata": {},
   "outputs": [],
   "source": []
  },
  {
   "cell_type": "code",
   "execution_count": null,
   "id": "72b78293-af24-4704-a2ae-d962394fbb3d",
   "metadata": {},
   "outputs": [],
   "source": []
  },
  {
   "cell_type": "code",
   "execution_count": null,
   "id": "305c4dde-6acb-471a-9a16-92bd2d5261e9",
   "metadata": {},
   "outputs": [],
   "source": []
  },
  {
   "cell_type": "code",
   "execution_count": null,
   "id": "3962aa0c-ca68-4fd2-8a41-3d66b70782b8",
   "metadata": {},
   "outputs": [],
   "source": []
  },
  {
   "cell_type": "code",
   "execution_count": null,
   "id": "a0890224-860f-4a97-90e6-9912f6719dbc",
   "metadata": {},
   "outputs": [],
   "source": []
  },
  {
   "cell_type": "code",
   "execution_count": null,
   "id": "8fff818e-5ac5-44c7-a1df-64d6979deba8",
   "metadata": {},
   "outputs": [],
   "source": []
  },
  {
   "cell_type": "code",
   "execution_count": null,
   "id": "6d84e923-c305-4ce3-9324-cb4579fd0b7b",
   "metadata": {},
   "outputs": [],
   "source": []
  },
  {
   "cell_type": "code",
   "execution_count": null,
   "id": "9494b361-7f7e-469f-8fd6-b8857e5efea6",
   "metadata": {},
   "outputs": [],
   "source": []
  },
  {
   "cell_type": "code",
   "execution_count": null,
   "id": "6533e474-e3a2-453b-ac01-e9bc3397ecf1",
   "metadata": {},
   "outputs": [],
   "source": []
  },
  {
   "cell_type": "code",
   "execution_count": null,
   "id": "8a2ccf56-c052-4a37-a8e8-98c129679b70",
   "metadata": {},
   "outputs": [],
   "source": []
  },
  {
   "cell_type": "code",
   "execution_count": null,
   "id": "cfc16398-2095-4bfe-ab99-27ea0c112e89",
   "metadata": {},
   "outputs": [],
   "source": []
  },
  {
   "cell_type": "code",
   "execution_count": null,
   "id": "e84d8c4b-bed3-4bce-99bd-771c5ed1c7f0",
   "metadata": {},
   "outputs": [],
   "source": []
  },
  {
   "cell_type": "code",
   "execution_count": null,
   "id": "19a4edde-f6a3-4a3c-a2a6-7540653c3133",
   "metadata": {},
   "outputs": [],
   "source": []
  },
  {
   "cell_type": "code",
   "execution_count": null,
   "id": "9362ffd8-d7e5-4f4d-87cf-67cab5a77869",
   "metadata": {},
   "outputs": [],
   "source": []
  },
  {
   "cell_type": "code",
   "execution_count": null,
   "id": "d2667d4b-93b8-4dee-b0b7-d84d2e70d777",
   "metadata": {},
   "outputs": [],
   "source": []
  }
 ],
 "metadata": {
  "kernelspec": {
   "display_name": "Python 3 (ipykernel)",
   "language": "python",
   "name": "python3"
  },
  "language_info": {
   "codemirror_mode": {
    "name": "ipython",
    "version": 3
   },
   "file_extension": ".py",
   "mimetype": "text/x-python",
   "name": "python",
   "nbconvert_exporter": "python",
   "pygments_lexer": "ipython3",
   "version": "3.11.7"
  }
 },
 "nbformat": 4,
 "nbformat_minor": 5
}
